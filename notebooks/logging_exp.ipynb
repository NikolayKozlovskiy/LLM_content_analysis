{
 "cells": [
  {
   "cell_type": "code",
   "execution_count": 1,
   "id": "92aff92a-b7ef-4e07-97fd-9bfba01d59ae",
   "metadata": {},
   "outputs": [],
   "source": [
    "from configparser import ConfigParser, ExtendedInterpolation\n",
    "from auto_internet_search.components.web_scraping.web_scraping import WebScraping\n",
    "from auto_internet_search.core.functions import class_getter"
   ]
  },
  {
   "cell_type": "code",
   "execution_count": 2,
   "id": "6699a121-2a18-498d-ab0a-f2f4ec5c7578",
   "metadata": {},
   "outputs": [],
   "source": [
    "config_path = '/usr/src/app/configs/config.ini'"
   ]
  },
  {
   "cell_type": "code",
   "execution_count": 3,
   "id": "959b06e7-29d5-40e2-88e9-9d12eeeb3d14",
   "metadata": {},
   "outputs": [],
   "source": [
    "converters = {\n",
    "        \"list\": lambda val: [i.strip() for i in val.strip().split(\"\\n\")],\n",
    "        \"eval\": eval,\n",
    "    }"
   ]
  },
  {
   "cell_type": "code",
   "execution_count": 4,
   "id": "fcbb077b-6d31-4b49-8ea9-fcdb7688bd74",
   "metadata": {},
   "outputs": [
    {
     "data": {
      "text/plain": [
       "['/usr/src/app/configs/config.ini']"
      ]
     },
     "execution_count": 4,
     "metadata": {},
     "output_type": "execute_result"
    }
   ],
   "source": [
    "parser: ConfigParser = ConfigParser(\n",
    "    converters=converters, interpolation=ExtendedInterpolation(), inline_comment_prefixes=\"#\", allow_no_value=True\n",
    ")\n",
    "parser.optionxform = lambda option: option\n",
    "parser.read(config_path)"
   ]
  },
  {
   "cell_type": "code",
   "execution_count": 5,
   "id": "a37b8160-0d58-45a8-a883-54e93c187dc4",
   "metadata": {},
   "outputs": [
    {
     "name": "stdout",
     "output_type": "stream",
     "text": [
      "WebScraping\n",
      "'Hello World'\n",
      "'Hello World'\n",
      "'Hello World'\n"
     ]
    }
   ],
   "source": [
    "for component in list(parser['Components'].keys()):\n",
    "    print(component)\n",
    "    component_config = parser[component]\n",
    "    ws = WebScraping(component_config)\n",
    "    ws_1 = class_getter(component_config)\n",
    "    # should all three the same\n",
    "    print(component_config.get(\"print_statement\"))\n",
    "    print(ws.print_statement)\n",
    "    print(ws_1.print_statement)"
   ]
  },
  {
   "cell_type": "code",
   "execution_count": null,
   "id": "6462b90b-2aac-4909-9ebc-9961bd64f266",
   "metadata": {},
   "outputs": [],
   "source": []
  }
 ],
 "metadata": {
  "kernelspec": {
   "display_name": "Python 3 (ipykernel)",
   "language": "python",
   "name": "python3"
  },
  "language_info": {
   "codemirror_mode": {
    "name": "ipython",
    "version": 3
   },
   "file_extension": ".py",
   "mimetype": "text/x-python",
   "name": "python",
   "nbconvert_exporter": "python",
   "pygments_lexer": "ipython3",
   "version": "3.9.19"
  }
 },
 "nbformat": 4,
 "nbformat_minor": 5
}
