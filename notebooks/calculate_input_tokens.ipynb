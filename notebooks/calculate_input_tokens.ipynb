{
 "cells": [
  {
   "cell_type": "code",
   "execution_count": null,
   "id": "dee08bc2-1288-425b-aebf-a93476758de0",
   "metadata": {},
   "outputs": [],
   "source": [
    "import os\n",
    "import json\n",
    "import pandas as pd\n",
    "from concurrent.futures import ProcessPoolExecutor\n",
    "import tiktoken\n",
    "from openpyxl import load_workbook\n",
    "from openpyxl.worksheet.worksheet import Worksheet\n",
    "from tiktoken import Encoding\n",
    "\n",
    "from typing import Tuple"
   ]
  },
  {
   "cell_type": "code",
   "execution_count": null,
   "id": "fbad9b38-89a5-4199-ae90-631139763906",
   "metadata": {},
   "outputs": [],
   "source": [
    "# reference - https://cookbook.openai.com/examples/how_to_count_tokens_with_tiktoken\n",
    "\n",
    "HOME_DIR = '/usr/src/app'\n",
    "WEB_SCRAPING_DIR = f'{HOME_DIR}/data/web_scraping'\n",
    "MESSAGES_DIR = f'{HOME_DIR}/resources/system_messages'\n",
    "SYSTEM_MESSAGE_1_PATH = f'{MESSAGES_DIR}/SYSTEM_MESSAGE_1.txt'\n",
    "SYSTEM_MESSAGE_2_PATH = f'{MESSAGES_DIR}/SYSTEM_MESSAGE_2.txt'\n",
    "\n",
    "ENCODING_NAME = 'cl100k_base'\n",
    "ENCODING = tiktoken.get_encoding(ENCODING_NAME)\n",
    "\n",
    "TOKENS_PER_MESSAGE = 3\n",
    "TOKENS_PER_ROLE = 1"
   ]
  },
  {
   "cell_type": "code",
   "execution_count": null,
   "id": "96ffae92-4e58-4f66-a312-1b12b2a6b686",
   "metadata": {},
   "outputs": [],
   "source": [
    "def num_tokens_from_string(string: str, encoding: Encoding=ENCODING) -> int:\n",
    "    \n",
    "    num_tokens = len(encoding.encode(string))\n",
    "    \n",
    "    return num_tokens"
   ]
  },
  {
   "cell_type": "code",
   "execution_count": null,
   "id": "f80ed4de-e94f-4058-97df-1a323c9d8083",
   "metadata": {},
   "outputs": [],
   "source": [
    "def calculate_message_len(message: str, encoding: Encoding=ENCODING, tokens_per_mes: int=TOKENS_PER_MESSAGE, tokens_per_role: int=TOKENS_PER_ROLE) -> int: \n",
    "    \n",
    "    message_len = num_tokens_from_string(message, encoding) + tokens_per_mes + tokens_per_role\n",
    "\n",
    "    return message_len"
   ]
  },
  {
   "cell_type": "code",
   "execution_count": null,
   "id": "c73094f8-51c5-4fea-9bbe-100b22ed124d",
   "metadata": {},
   "outputs": [],
   "source": [
    "def calculate_system_message_len(system_message_path: str, encoding: Encoding=ENCODING, tokens_per_mes: int=TOKENS_PER_MESSAGE, tokens_per_role: int=TOKENS_PER_ROLE) -> int:\n",
    "    \n",
    "    with open(system_message_path, 'r') as file:\n",
    "        system_message = file.read()\n",
    "        \n",
    "    system_message_len = calculate_message_len(system_message, encoding, tokens_per_mes, tokens_per_role)\n",
    "\n",
    "    return system_message_len"
   ]
  },
  {
   "cell_type": "code",
   "execution_count": null,
   "id": "1dba8316-92ea-487b-aceb-ee8136024231",
   "metadata": {},
   "outputs": [],
   "source": [
    "def calculate_stats_per_sheet(sheet: Worksheet, encoding: Encoding=ENCODING, tokens_per_mes: int=TOKENS_PER_MESSAGE, tokens_per_role: int=TOKENS_PER_ROLE) -> Tuple[int,int]:\n",
    "\n",
    "    total_sheet_tokens = 0 \n",
    "    total_sheet_rows = 0\n",
    "    \n",
    "    df = pd.DataFrame(sheet.values)\n",
    "    df.columns = df.iloc[0]\n",
    "    df = df[1:]\n",
    "    \n",
    "    for row in df.itertuples(index=True, name='Pandas'):\n",
    "        prompt = json.dumps({\n",
    "            'country':row.country, \n",
    "            'commodity':row.commodity, \n",
    "            'text':row.article_clean_text\n",
    "        })\n",
    "\n",
    "        user_message_len = calculate_message_len(prompt, encoding, tokens_per_mes, tokens_per_role)\n",
    "\n",
    "        total_sheet_tokens += user_message_len\n",
    "        total_sheet_rows += 1\n",
    "\n",
    "    return (total_sheet_tokens, total_sheet_rows)\n",
    "        "
   ]
  },
  {
   "cell_type": "code",
   "execution_count": null,
   "id": "4ad38667-47ea-4e08-9aa1-d5e4e31b752c",
   "metadata": {},
   "outputs": [],
   "source": [
    "system_message_1_len = calculate_system_message_len(SYSTEM_MESSAGE_1_PATH)\n",
    "system_message_2_len = calculate_system_message_len(SYSTEM_MESSAGE_2_PATH)\n",
    "\n",
    "print(f\"Length of the first variant of SM: {system_message_1_len}\")\n",
    "print(f\"Length of the second variant of SM: {system_message_2_len}\")"
   ]
  },
  {
   "cell_type": "code",
   "execution_count": null,
   "id": "7317a024-c42c-4910-a185-4b6c5585b5ac",
   "metadata": {},
   "outputs": [],
   "source": [
    "total_user_input_tokens = 0\n",
    "total_rows = 0\n",
    "\n",
    "for file_name in os.listdir(WEB_SCRAPING_DIR):\n",
    "    if file_name.endswith('.xlsx'):\n",
    "        file_path = os.path.join(WEB_SCRAPING_DIR, file_name)\n",
    "        \n",
    "        workbook = load_workbook(file_path, read_only=True)\n",
    "        \n",
    "        for sheet_name in workbook.sheetnames:\n",
    "            sheet = workbook[sheet_name]\n",
    "\n",
    "            sheet_stats = calculate_stats_per_sheet(sheet)\n",
    "\n",
    "            total_user_input_tokens += sheet_stats[0]\n",
    "            total_rows += sheet_stats[1]"
   ]
  },
  {
   "cell_type": "code",
   "execution_count": null,
   "id": "0def5791-a2e1-41b0-94db-662717834053",
   "metadata": {},
   "outputs": [],
   "source": [
    "# if use SM 1\n",
    "total_input_tokens_1 = total_user_input_tokens + total_rows*(system_message_1_len + 3)\n",
    "print(f\"Total number of input tokens with an assumption that the first SM is used for prompting: {total_input_tokens_1}\")"
   ]
  },
  {
   "cell_type": "code",
   "execution_count": null,
   "id": "9840549c-1e99-415c-98c7-348321ca0dc6",
   "metadata": {},
   "outputs": [],
   "source": [
    "# if use SM 2\n",
    "total_input_tokens_2 = total_user_input_tokens + total_rows*(system_message_2_len + 3)\n",
    "print(f\"Total number of input tokens with an assumption that the second SM is used for prompting: {total_input_tokens_2}\")"
   ]
  }
 ],
 "metadata": {
  "kernelspec": {
   "display_name": "Python 3 (ipykernel)",
   "language": "python",
   "name": "python3"
  },
  "language_info": {
   "codemirror_mode": {
    "name": "ipython",
    "version": 3
   },
   "file_extension": ".py",
   "mimetype": "text/x-python",
   "name": "python",
   "nbconvert_exporter": "python",
   "pygments_lexer": "ipython3",
   "version": "3.9.19"
  }
 },
 "nbformat": 4,
 "nbformat_minor": 5
}
